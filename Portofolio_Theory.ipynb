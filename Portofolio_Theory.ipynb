{
 "cells": [
  {
   "cell_type": "code",
   "execution_count": 117,
   "metadata": {},
   "outputs": [],
   "source": [
    "import yfinance as yf\n",
    "import numpy as np\n",
    "import pandas as pd\n",
    "from scipy.optimize import minimize,Bounds"
   ]
  },
  {
   "cell_type": "code",
   "execution_count": 118,
   "metadata": {},
   "outputs": [],
   "source": [
    "#S&P 500, Gold, Tesla, 3M ,Caterpillar, Apple, Brent Crude Oil\n",
    "tickers = ['^GSPC','GC=F','TSLA','MMM','CAT','AAPL','BZ=F']"
   ]
  },
  {
   "cell_type": "code",
   "execution_count": 119,
   "metadata": {},
   "outputs": [
    {
     "name": "stdout",
     "output_type": "stream",
     "text": [
      "[*********************100%***********************]  7 of 7 completed\n"
     ]
    },
    {
     "data": {
      "text/html": [
       "<div>\n",
       "<style scoped>\n",
       "    .dataframe tbody tr th:only-of-type {\n",
       "        vertical-align: middle;\n",
       "    }\n",
       "\n",
       "    .dataframe tbody tr th {\n",
       "        vertical-align: top;\n",
       "    }\n",
       "\n",
       "    .dataframe thead th {\n",
       "        text-align: right;\n",
       "    }\n",
       "</style>\n",
       "<table border=\"1\" class=\"dataframe\">\n",
       "  <thead>\n",
       "    <tr style=\"text-align: right;\">\n",
       "      <th></th>\n",
       "      <th>AAPL</th>\n",
       "      <th>BZ=F</th>\n",
       "      <th>CAT</th>\n",
       "      <th>GC=F</th>\n",
       "      <th>MMM</th>\n",
       "      <th>TSLA</th>\n",
       "      <th>^GSPC</th>\n",
       "    </tr>\n",
       "    <tr>\n",
       "      <th>Date</th>\n",
       "      <th></th>\n",
       "      <th></th>\n",
       "      <th></th>\n",
       "      <th></th>\n",
       "      <th></th>\n",
       "      <th></th>\n",
       "      <th></th>\n",
       "    </tr>\n",
       "  </thead>\n",
       "  <tbody>\n",
       "    <tr>\n",
       "      <th>2010-01-04</th>\n",
       "      <td>6.505280</td>\n",
       "      <td>80.120003</td>\n",
       "      <td>41.156902</td>\n",
       "      <td>1117.699951</td>\n",
       "      <td>56.705288</td>\n",
       "      <td>NaN</td>\n",
       "      <td>1132.989990</td>\n",
       "    </tr>\n",
       "    <tr>\n",
       "      <th>2010-01-05</th>\n",
       "      <td>6.516528</td>\n",
       "      <td>80.589996</td>\n",
       "      <td>41.648968</td>\n",
       "      <td>1118.099976</td>\n",
       "      <td>56.350121</td>\n",
       "      <td>NaN</td>\n",
       "      <td>1136.520020</td>\n",
       "    </tr>\n",
       "    <tr>\n",
       "      <th>2010-01-06</th>\n",
       "      <td>6.412873</td>\n",
       "      <td>81.889999</td>\n",
       "      <td>41.775486</td>\n",
       "      <td>1135.900024</td>\n",
       "      <td>57.149288</td>\n",
       "      <td>NaN</td>\n",
       "      <td>1137.140015</td>\n",
       "    </tr>\n",
       "    <tr>\n",
       "      <th>2010-01-07</th>\n",
       "      <td>6.401017</td>\n",
       "      <td>81.510002</td>\n",
       "      <td>41.944206</td>\n",
       "      <td>1133.099976</td>\n",
       "      <td>57.190277</td>\n",
       "      <td>NaN</td>\n",
       "      <td>1141.689941</td>\n",
       "    </tr>\n",
       "    <tr>\n",
       "      <th>2010-01-08</th>\n",
       "      <td>6.443575</td>\n",
       "      <td>81.370003</td>\n",
       "      <td>42.415173</td>\n",
       "      <td>1138.199951</td>\n",
       "      <td>57.593269</td>\n",
       "      <td>NaN</td>\n",
       "      <td>1144.979980</td>\n",
       "    </tr>\n",
       "    <tr>\n",
       "      <th>...</th>\n",
       "      <td>...</td>\n",
       "      <td>...</td>\n",
       "      <td>...</td>\n",
       "      <td>...</td>\n",
       "      <td>...</td>\n",
       "      <td>...</td>\n",
       "      <td>...</td>\n",
       "    </tr>\n",
       "    <tr>\n",
       "      <th>2023-03-09</th>\n",
       "      <td>150.589996</td>\n",
       "      <td>81.589996</td>\n",
       "      <td>240.960007</td>\n",
       "      <td>1829.300049</td>\n",
       "      <td>105.519997</td>\n",
       "      <td>172.919998</td>\n",
       "      <td>3918.320068</td>\n",
       "    </tr>\n",
       "    <tr>\n",
       "      <th>2023-03-10</th>\n",
       "      <td>148.500000</td>\n",
       "      <td>82.779999</td>\n",
       "      <td>227.009995</td>\n",
       "      <td>1862.000000</td>\n",
       "      <td>104.059998</td>\n",
       "      <td>173.440002</td>\n",
       "      <td>3861.590088</td>\n",
       "    </tr>\n",
       "    <tr>\n",
       "      <th>2023-03-13</th>\n",
       "      <td>150.470001</td>\n",
       "      <td>80.769997</td>\n",
       "      <td>224.699997</td>\n",
       "      <td>1911.699951</td>\n",
       "      <td>103.500000</td>\n",
       "      <td>174.479996</td>\n",
       "      <td>3855.760010</td>\n",
       "    </tr>\n",
       "    <tr>\n",
       "      <th>2023-03-14</th>\n",
       "      <td>152.589996</td>\n",
       "      <td>77.449997</td>\n",
       "      <td>225.669998</td>\n",
       "      <td>1906.199951</td>\n",
       "      <td>102.779999</td>\n",
       "      <td>183.259995</td>\n",
       "      <td>3919.290039</td>\n",
       "    </tr>\n",
       "    <tr>\n",
       "      <th>2023-03-15</th>\n",
       "      <td>151.130005</td>\n",
       "      <td>72.820000</td>\n",
       "      <td>213.455002</td>\n",
       "      <td>1941.900024</td>\n",
       "      <td>101.506897</td>\n",
       "      <td>177.899902</td>\n",
       "      <td>NaN</td>\n",
       "    </tr>\n",
       "  </tbody>\n",
       "</table>\n",
       "<p>3325 rows × 7 columns</p>\n",
       "</div>"
      ],
      "text/plain": [
       "                  AAPL       BZ=F         CAT         GC=F         MMM  \\\n",
       "Date                                                                     \n",
       "2010-01-04    6.505280  80.120003   41.156902  1117.699951   56.705288   \n",
       "2010-01-05    6.516528  80.589996   41.648968  1118.099976   56.350121   \n",
       "2010-01-06    6.412873  81.889999   41.775486  1135.900024   57.149288   \n",
       "2010-01-07    6.401017  81.510002   41.944206  1133.099976   57.190277   \n",
       "2010-01-08    6.443575  81.370003   42.415173  1138.199951   57.593269   \n",
       "...                ...        ...         ...          ...         ...   \n",
       "2023-03-09  150.589996  81.589996  240.960007  1829.300049  105.519997   \n",
       "2023-03-10  148.500000  82.779999  227.009995  1862.000000  104.059998   \n",
       "2023-03-13  150.470001  80.769997  224.699997  1911.699951  103.500000   \n",
       "2023-03-14  152.589996  77.449997  225.669998  1906.199951  102.779999   \n",
       "2023-03-15  151.130005  72.820000  213.455002  1941.900024  101.506897   \n",
       "\n",
       "                  TSLA        ^GSPC  \n",
       "Date                                 \n",
       "2010-01-04         NaN  1132.989990  \n",
       "2010-01-05         NaN  1136.520020  \n",
       "2010-01-06         NaN  1137.140015  \n",
       "2010-01-07         NaN  1141.689941  \n",
       "2010-01-08         NaN  1144.979980  \n",
       "...                ...          ...  \n",
       "2023-03-09  172.919998  3918.320068  \n",
       "2023-03-10  173.440002  3861.590088  \n",
       "2023-03-13  174.479996  3855.760010  \n",
       "2023-03-14  183.259995  3919.290039  \n",
       "2023-03-15  177.899902          NaN  \n",
       "\n",
       "[3325 rows x 7 columns]"
      ]
     },
     "execution_count": 119,
     "metadata": {},
     "output_type": "execute_result"
    }
   ],
   "source": [
    "df = yf.download(tickers,start='2010-01-01')['Adj Close']\n",
    "df "
   ]
  },
  {
   "cell_type": "code",
   "execution_count": 120,
   "metadata": {},
   "outputs": [],
   "source": [
    "#log returns \n",
    "#Window operation; row wise divided by the previous row P/P-1, where P=price\n",
    "ret_df = np.log(df/df.shift(1))"
   ]
  },
  {
   "cell_type": "code",
   "execution_count": 121,
   "metadata": {},
   "outputs": [
    {
     "data": {
      "text/html": [
       "<div>\n",
       "<style scoped>\n",
       "    .dataframe tbody tr th:only-of-type {\n",
       "        vertical-align: middle;\n",
       "    }\n",
       "\n",
       "    .dataframe tbody tr th {\n",
       "        vertical-align: top;\n",
       "    }\n",
       "\n",
       "    .dataframe thead th {\n",
       "        text-align: right;\n",
       "    }\n",
       "</style>\n",
       "<table border=\"1\" class=\"dataframe\">\n",
       "  <thead>\n",
       "    <tr style=\"text-align: right;\">\n",
       "      <th></th>\n",
       "      <th>AAPL</th>\n",
       "      <th>BZ=F</th>\n",
       "      <th>CAT</th>\n",
       "      <th>GC=F</th>\n",
       "      <th>MMM</th>\n",
       "      <th>TSLA</th>\n",
       "      <th>^GSPC</th>\n",
       "    </tr>\n",
       "  </thead>\n",
       "  <tbody>\n",
       "    <tr>\n",
       "      <th>AAPL</th>\n",
       "      <td>1.000000</td>\n",
       "      <td>0.184906</td>\n",
       "      <td>0.416001</td>\n",
       "      <td>0.050981</td>\n",
       "      <td>0.433163</td>\n",
       "      <td>0.360033</td>\n",
       "      <td>0.690801</td>\n",
       "    </tr>\n",
       "    <tr>\n",
       "      <th>BZ=F</th>\n",
       "      <td>0.184906</td>\n",
       "      <td>1.000000</td>\n",
       "      <td>0.362370</td>\n",
       "      <td>0.131811</td>\n",
       "      <td>0.200148</td>\n",
       "      <td>0.154338</td>\n",
       "      <td>0.320400</td>\n",
       "    </tr>\n",
       "    <tr>\n",
       "      <th>CAT</th>\n",
       "      <td>0.416001</td>\n",
       "      <td>0.362370</td>\n",
       "      <td>1.000000</td>\n",
       "      <td>0.054325</td>\n",
       "      <td>0.619784</td>\n",
       "      <td>0.240566</td>\n",
       "      <td>0.691322</td>\n",
       "    </tr>\n",
       "    <tr>\n",
       "      <th>GC=F</th>\n",
       "      <td>0.050981</td>\n",
       "      <td>0.131811</td>\n",
       "      <td>0.054325</td>\n",
       "      <td>1.000000</td>\n",
       "      <td>0.014176</td>\n",
       "      <td>0.054882</td>\n",
       "      <td>0.044880</td>\n",
       "    </tr>\n",
       "    <tr>\n",
       "      <th>MMM</th>\n",
       "      <td>0.433163</td>\n",
       "      <td>0.200148</td>\n",
       "      <td>0.619784</td>\n",
       "      <td>0.014176</td>\n",
       "      <td>1.000000</td>\n",
       "      <td>0.228894</td>\n",
       "      <td>0.706510</td>\n",
       "    </tr>\n",
       "    <tr>\n",
       "      <th>TSLA</th>\n",
       "      <td>0.360033</td>\n",
       "      <td>0.154338</td>\n",
       "      <td>0.240566</td>\n",
       "      <td>0.054882</td>\n",
       "      <td>0.228894</td>\n",
       "      <td>1.000000</td>\n",
       "      <td>0.430231</td>\n",
       "    </tr>\n",
       "    <tr>\n",
       "      <th>^GSPC</th>\n",
       "      <td>0.690801</td>\n",
       "      <td>0.320400</td>\n",
       "      <td>0.691322</td>\n",
       "      <td>0.044880</td>\n",
       "      <td>0.706510</td>\n",
       "      <td>0.430231</td>\n",
       "      <td>1.000000</td>\n",
       "    </tr>\n",
       "  </tbody>\n",
       "</table>\n",
       "</div>"
      ],
      "text/plain": [
       "           AAPL      BZ=F       CAT      GC=F       MMM      TSLA     ^GSPC\n",
       "AAPL   1.000000  0.184906  0.416001  0.050981  0.433163  0.360033  0.690801\n",
       "BZ=F   0.184906  1.000000  0.362370  0.131811  0.200148  0.154338  0.320400\n",
       "CAT    0.416001  0.362370  1.000000  0.054325  0.619784  0.240566  0.691322\n",
       "GC=F   0.050981  0.131811  0.054325  1.000000  0.014176  0.054882  0.044880\n",
       "MMM    0.433163  0.200148  0.619784  0.014176  1.000000  0.228894  0.706510\n",
       "TSLA   0.360033  0.154338  0.240566  0.054882  0.228894  1.000000  0.430231\n",
       "^GSPC  0.690801  0.320400  0.691322  0.044880  0.706510  0.430231  1.000000"
      ]
     },
     "execution_count": 121,
     "metadata": {},
     "output_type": "execute_result"
    }
   ],
   "source": [
    "#correlation\n",
    "ret_df.corr()"
   ]
  },
  {
   "cell_type": "code",
   "execution_count": 122,
   "metadata": {},
   "outputs": [
    {
     "data": {
      "text/plain": [
       "<AxesSubplot: xlabel='Date'>"
      ]
     },
     "execution_count": 122,
     "metadata": {},
     "output_type": "execute_result"
    },
    {
     "data": {
      "image/png": "[encoded data removed]",
      "text/plain": [
       "<Figure size 640x480 with 1 Axes>"
      ]
     },
     "metadata": {},
     "output_type": "display_data"
    }
   ],
   "source": [
    "#cumulative sum\n",
    "ret_df.cumsum().plot()"
   ]
  },
  {
   "cell_type": "code",
   "execution_count": 123,
   "metadata": {},
   "outputs": [
    {
     "data": {
      "text/plain": [
       "AAPL     0.000945\n",
       "BZ=F     0.000006\n",
       "CAT      0.000505\n",
       "GC=F     0.000180\n",
       "MMM      0.000186\n",
       "TSLA     0.001435\n",
       "^GSPC    0.000374\n",
       "dtype: float64"
      ]
     },
     "execution_count": 123,
     "metadata": {},
     "output_type": "execute_result"
    }
   ],
   "source": [
    "# mean of returns/ average ruturn\n",
    "ret_df.mean()"
   ]
  },
  {
   "cell_type": "code",
   "execution_count": 124,
   "metadata": {},
   "outputs": [
    {
     "data": {
      "text/plain": [
       "AAPL     0.018064\n",
       "BZ=F     0.023566\n",
       "CAT      0.018505\n",
       "GC=F     0.010202\n",
       "MMM      0.013941\n",
       "TSLA     0.035998\n",
       "^GSPC    0.011234\n",
       "dtype: float64"
      ]
     },
     "execution_count": 124,
     "metadata": {},
     "output_type": "execute_result"
    }
   ],
   "source": [
    "# Risk -> volatility\n",
    "ret_df.std()"
   ]
  },
  {
   "attachments": {},
   "cell_type": "markdown",
   "metadata": {},
   "source": [
    "# Ideas taken from the following paper\n",
    "https://faculty.washington.edu/ezivot/econ424/portfolioTheoryMatrix.pdf"
   ]
  },
  {
   "cell_type": "code",
   "execution_count": 125,
   "metadata": {},
   "outputs": [
    {
     "data": {
      "text/plain": [
       "array([0.14285714, 0.14285714, 0.14285714, 0.14285714, 0.14285714,\n",
       "       0.14285714, 0.14285714])"
      ]
     },
     "execution_count": 125,
     "metadata": {},
     "output_type": "execute_result"
    }
   ],
   "source": [
    "#weight vector with the assumption that all the assets have equal weights\n",
    "W = np.ones(len(ret_df.columns))/(np.ones(len(ret_df.columns))).sum()\n",
    "W"
   ]
  },
  {
   "cell_type": "code",
   "execution_count": 126,
   "metadata": {},
   "outputs": [
    {
     "data": {
      "text/plain": [
       "0.0005187496718674314"
      ]
     },
     "execution_count": 126,
     "metadata": {},
     "output_type": "execute_result"
    }
   ],
   "source": [
    "(W * ret_df.mean()).sum()\n",
    "ret_df.mean().dot(W)"
   ]
  },
  {
   "attachments": {},
   "cell_type": "markdown",
   "metadata": {},
   "source": [
    "By looking now the expected value one can observe that the expected returns of the combination is greater that the return of gold alone but lower that S&P500 alone. However, it is of crucial importance to study the risk factor, i.e. to look at the variance in order to get a glimpse about the volatility."
   ]
  },
  {
   "cell_type": "code",
   "execution_count": 127,
   "metadata": {},
   "outputs": [
    {
     "data": {
      "text/html": [
       "<div>\n",
       "<style scoped>\n",
       "    .dataframe tbody tr th:only-of-type {\n",
       "        vertical-align: middle;\n",
       "    }\n",
       "\n",
       "    .dataframe tbody tr th {\n",
       "        vertical-align: top;\n",
       "    }\n",
       "\n",
       "    .dataframe thead th {\n",
       "        text-align: right;\n",
       "    }\n",
       "</style>\n",
       "<table border=\"1\" class=\"dataframe\">\n",
       "  <thead>\n",
       "    <tr style=\"text-align: right;\">\n",
       "      <th></th>\n",
       "      <th>AAPL</th>\n",
       "      <th>BZ=F</th>\n",
       "      <th>CAT</th>\n",
       "      <th>GC=F</th>\n",
       "      <th>MMM</th>\n",
       "      <th>TSLA</th>\n",
       "      <th>^GSPC</th>\n",
       "    </tr>\n",
       "  </thead>\n",
       "  <tbody>\n",
       "    <tr>\n",
       "      <th>AAPL</th>\n",
       "      <td>0.000326</td>\n",
       "      <td>0.000078</td>\n",
       "      <td>0.000139</td>\n",
       "      <td>0.000009</td>\n",
       "      <td>0.000109</td>\n",
       "      <td>0.000233</td>\n",
       "      <td>0.000140</td>\n",
       "    </tr>\n",
       "    <tr>\n",
       "      <th>BZ=F</th>\n",
       "      <td>0.000078</td>\n",
       "      <td>0.000555</td>\n",
       "      <td>0.000157</td>\n",
       "      <td>0.000032</td>\n",
       "      <td>0.000066</td>\n",
       "      <td>0.000132</td>\n",
       "      <td>0.000084</td>\n",
       "    </tr>\n",
       "    <tr>\n",
       "      <th>CAT</th>\n",
       "      <td>0.000139</td>\n",
       "      <td>0.000157</td>\n",
       "      <td>0.000342</td>\n",
       "      <td>0.000010</td>\n",
       "      <td>0.000160</td>\n",
       "      <td>0.000158</td>\n",
       "      <td>0.000144</td>\n",
       "    </tr>\n",
       "    <tr>\n",
       "      <th>GC=F</th>\n",
       "      <td>0.000009</td>\n",
       "      <td>0.000032</td>\n",
       "      <td>0.000010</td>\n",
       "      <td>0.000104</td>\n",
       "      <td>0.000002</td>\n",
       "      <td>0.000020</td>\n",
       "      <td>0.000005</td>\n",
       "    </tr>\n",
       "    <tr>\n",
       "      <th>MMM</th>\n",
       "      <td>0.000109</td>\n",
       "      <td>0.000066</td>\n",
       "      <td>0.000160</td>\n",
       "      <td>0.000002</td>\n",
       "      <td>0.000194</td>\n",
       "      <td>0.000115</td>\n",
       "      <td>0.000111</td>\n",
       "    </tr>\n",
       "    <tr>\n",
       "      <th>TSLA</th>\n",
       "      <td>0.000233</td>\n",
       "      <td>0.000132</td>\n",
       "      <td>0.000158</td>\n",
       "      <td>0.000020</td>\n",
       "      <td>0.000115</td>\n",
       "      <td>0.001296</td>\n",
       "      <td>0.000173</td>\n",
       "    </tr>\n",
       "    <tr>\n",
       "      <th>^GSPC</th>\n",
       "      <td>0.000140</td>\n",
       "      <td>0.000084</td>\n",
       "      <td>0.000144</td>\n",
       "      <td>0.000005</td>\n",
       "      <td>0.000111</td>\n",
       "      <td>0.000173</td>\n",
       "      <td>0.000126</td>\n",
       "    </tr>\n",
       "  </tbody>\n",
       "</table>\n",
       "</div>"
      ],
      "text/plain": [
       "           AAPL      BZ=F       CAT      GC=F       MMM      TSLA     ^GSPC\n",
       "AAPL   0.000326  0.000078  0.000139  0.000009  0.000109  0.000233  0.000140\n",
       "BZ=F   0.000078  0.000555  0.000157  0.000032  0.000066  0.000132  0.000084\n",
       "CAT    0.000139  0.000157  0.000342  0.000010  0.000160  0.000158  0.000144\n",
       "GC=F   0.000009  0.000032  0.000010  0.000104  0.000002  0.000020  0.000005\n",
       "MMM    0.000109  0.000066  0.000160  0.000002  0.000194  0.000115  0.000111\n",
       "TSLA   0.000233  0.000132  0.000158  0.000020  0.000115  0.001296  0.000173\n",
       "^GSPC  0.000140  0.000084  0.000144  0.000005  0.000111  0.000173  0.000126"
      ]
     },
     "execution_count": 127,
     "metadata": {},
     "output_type": "execute_result"
    }
   ],
   "source": [
    "ret_df.cov()"
   ]
  },
  {
   "cell_type": "code",
   "execution_count": 128,
   "metadata": {},
   "outputs": [
    {
     "data": {
      "text/plain": [
       "4.8979591836734685e-06"
      ]
     },
     "execution_count": 128,
     "metadata": {},
     "output_type": "execute_result"
    }
   ],
   "source": [
    "#portoflio variance\n",
    "W[0]**2 * 0.000104 + W[1]**2 * 0.000126 + 2 * W[0] * W[1]* 0.000005\n"
   ]
  },
  {
   "cell_type": "code",
   "execution_count": 129,
   "metadata": {},
   "outputs": [
    {
     "data": {
      "text/plain": [
       "0.007745966692414834"
      ]
     },
     "execution_count": 129,
     "metadata": {},
     "output_type": "execute_result"
    }
   ],
   "source": [
    "#portofolio_risk  \n",
    "6e-05 **(1/2)"
   ]
  },
  {
   "cell_type": "code",
   "execution_count": 130,
   "metadata": {},
   "outputs": [
    {
     "data": {
      "text/plain": [
       "0.012038071867899782"
      ]
     },
     "execution_count": 130,
     "metadata": {},
     "output_type": "execute_result"
    }
   ],
   "source": [
    "#portofolio_risk \n",
    "W.T.dot(ret_df.cov().dot(W))**(1/2)"
   ]
  },
  {
   "cell_type": "code",
   "execution_count": 131,
   "metadata": {},
   "outputs": [
    {
     "data": {
      "text/plain": [
       "AAPL     0.052335\n",
       "BZ=F     0.000240\n",
       "CAT      0.027305\n",
       "GC=F     0.017657\n",
       "MMM      0.013309\n",
       "TSLA     0.039859\n",
       "^GSPC    0.033326\n",
       "dtype: float64"
      ]
     },
     "execution_count": 131,
     "metadata": {},
     "output_type": "execute_result"
    }
   ],
   "source": [
    "ret_df.mean() / ret_df.std()"
   ]
  },
  {
   "cell_type": "code",
   "execution_count": 132,
   "metadata": {},
   "outputs": [
    {
     "data": {
      "text/plain": [
       "0.043092421906095066"
      ]
     },
     "execution_count": 132,
     "metadata": {},
     "output_type": "execute_result"
    }
   ],
   "source": [
    "#sharp ratio risk\n",
    "\n",
    "ret_df.mean().dot(W) / (W.T.dot(ret_df.cov().dot(W))**(1/2))"
   ]
  },
  {
   "attachments": {},
   "cell_type": "markdown",
   "metadata": {},
   "source": [
    "### Is the equal-weighted portfolio the optimal choice?\n",
    "The goal now is to find a function to minimize to be able to find the optimal distribution of weights, which is the deciding difference from what we did above, where the weights were just equally distributed among the assets. The function to be minimized is the Sharpe ratio, thus finding the negative Sharpe ratio, one maximizes the Sharpe ratio which translates to optimal returns"
   ]
  },
  {
   "cell_type": "code",
   "execution_count": 133,
   "metadata": {},
   "outputs": [],
   "source": [
    "def sharpe_pf(W,returns):\n",
    "    pf_risk = (W.dot(returns.cov()).dot(W)) ** 0.5\n",
    "    SR = W.dot(returns.mean()) / pf_risk\n",
    "    return -SR"
   ]
  },
  {
   "cell_type": "code",
   "execution_count": 134,
   "metadata": {},
   "outputs": [
    {
     "data": {
      "text/plain": [
       "0.04309242190609506"
      ]
     },
     "execution_count": 134,
     "metadata": {},
     "output_type": "execute_result"
    }
   ],
   "source": [
    "#sharp ratio of equal-weighted portofolio\n",
    "-sharpe_pf(W,ret_df)"
   ]
  },
  {
   "attachments": {},
   "cell_type": "markdown",
   "metadata": {},
   "source": [
    "Equality constraint means that the function result is to be 0: the weights should always sum to 1."
   ]
  },
  {
   "cell_type": "code",
   "execution_count": 135,
   "metadata": {},
   "outputs": [
    {
     "data": {
      "text/plain": [
       "     fun: -0.058823134703948794\n",
       "     jac: array([-5.09577803e-05,  2.57438873e-02, -2.09389720e-04,  2.23238021e-05,\n",
       "        1.34055968e-02,  1.94591936e-04,  7.39012565e-03])\n",
       " message: 'Optimization terminated successfully'\n",
       "    nfev: 112\n",
       "     nit: 14\n",
       "    njev: 14\n",
       "  status: 0\n",
       " success: True\n",
       "       x: array([5.10458300e-01, 0.00000000e+00, 4.14328600e-02, 3.04819414e-01,\n",
       "       2.05998413e-17, 1.43289426e-01, 7.10152423e-18])"
      ]
     },
     "execution_count": 135,
     "metadata": {},
     "output_type": "execute_result"
    }
   ],
   "source": [
    "\n",
    "#defining constraints\n",
    "cons = ({'type':'eq','fun': lambda x: np.sum(x)-1})\n",
    "\n",
    "#Minimize the sparpe ratio to find optimal weights\n",
    "#Bounds (0,1) to avoid negative weights\n",
    "res = minimize(sharpe_pf,W,ret_df,bounds=Bounds(0,1),constraints=cons)\n",
    "res"
   ]
  },
  {
   "cell_type": "code",
   "execution_count": 136,
   "metadata": {},
   "outputs": [],
   "source": [
    "#optimal weights vector\n",
    "opt_W = res['x']"
   ]
  },
  {
   "attachments": {},
   "cell_type": "markdown",
   "metadata": {},
   "source": [
    "Let's now see if the optimally weighted portfolio with respect to the Sharpe ratio would perform better than the equally weighted portfolio"
   ]
  },
  {
   "cell_type": "code",
   "execution_count": 137,
   "metadata": {},
   "outputs": [],
   "source": [
    "# 70% for training\n",
    "train = ret_df[:int(len(ret_df) * 0.7)]\n",
    "#30 for testinhg\n",
    "test = ret_df[int(len(ret_df) * 0.7):]"
   ]
  },
  {
   "cell_type": "code",
   "execution_count": 138,
   "metadata": {},
   "outputs": [
    {
     "data": {
      "text/plain": [
       "     fun: -0.06040998046575489\n",
       "     jac: array([ 1.38659496e-04,  2.79574008e-02,  1.13112861e-02, -5.25871292e-05,\n",
       "        8.65668990e-05, -7.38081057e-04,  3.41145648e-03])\n",
       " message: 'Optimization terminated successfully'\n",
       "    nfev: 113\n",
       "     nit: 14\n",
       "    njev: 14\n",
       "  status: 0\n",
       " success: True\n",
       "       x: array([4.32664499e-01, 4.95480393e-17, 2.92734587e-17, 1.09600799e-01,\n",
       "       3.42205623e-01, 1.15529078e-01, 0.00000000e+00])"
      ]
     },
     "execution_count": 138,
     "metadata": {},
     "output_type": "execute_result"
    }
   ],
   "source": [
    "\n",
    "res_train = minimize(sharpe_pf,W,train,bounds=Bounds(0,1),constraints=cons)\n",
    "res_train"
   ]
  },
  {
   "cell_type": "code",
   "execution_count": 139,
   "metadata": {},
   "outputs": [
    {
     "data": {
      "text/plain": [
       "Date\n",
       "2019-04-03    0.006929\n",
       "2019-04-04    0.000714\n",
       "2019-04-05    0.007380\n",
       "2019-04-08    0.013341\n",
       "2019-04-09    0.007299\n",
       "                ...   \n",
       "2023-03-09    0.618247\n",
       "2023-03-10    0.609721\n",
       "2023-03-13    0.617154\n",
       "2023-03-14    0.626175\n",
       "2023-03-15         NaN\n",
       "Length: 998, dtype: float64"
      ]
     },
     "execution_count": 139,
     "metadata": {},
     "output_type": "execute_result"
    }
   ],
   "source": [
    "test.dot(res_train['x']).cumsum()"
   ]
  },
  {
   "cell_type": "code",
   "execution_count": 140,
   "metadata": {},
   "outputs": [
    {
     "data": {
      "text/plain": [
       "Date\n",
       "2019-04-03    0.003802\n",
       "2019-04-04   -0.005686\n",
       "2019-04-05    0.002272\n",
       "2019-04-08    0.005200\n",
       "2019-04-09   -0.002487\n",
       "                ...   \n",
       "2023-03-09    0.612484\n",
       "2023-03-10    0.602922\n",
       "2023-03-13    0.603463\n",
       "2023-03-14    0.608020\n",
       "2023-03-15         NaN\n",
       "Length: 998, dtype: float64"
      ]
     },
     "execution_count": 140,
     "metadata": {},
     "output_type": "execute_result"
    }
   ],
   "source": [
    "test.dot(W).cumsum()"
   ]
  },
  {
   "attachments": {},
   "cell_type": "markdown",
   "metadata": {},
   "source": [
    "By studying the returns above one can observe that the optimally weighted portfolio outperforms the equal-weighted. Consequently, it is of crucial importance to consider how to distribute the money invested in the subsequent asset."
   ]
  },
  {
   "cell_type": "code",
   "execution_count": 141,
   "metadata": {},
   "outputs": [
    {
     "data": {
      "text/plain": [
       "0.03705787823778228"
      ]
     },
     "execution_count": 141,
     "metadata": {},
     "output_type": "execute_result"
    }
   ],
   "source": [
    "-sharpe_pf(res_train['x'],test)"
   ]
  },
  {
   "cell_type": "code",
   "execution_count": 142,
   "metadata": {},
   "outputs": [
    {
     "data": {
      "text/plain": [
       "0.03867755388799338"
      ]
     },
     "execution_count": 142,
     "metadata": {},
     "output_type": "execute_result"
    }
   ],
   "source": [
    "-sharpe_pf(W,test)"
   ]
  },
  {
   "attachments": {},
   "cell_type": "markdown",
   "metadata": {},
   "source": [
    "Interestingly, the Sharpe ratio is slightly better for the equal-weighted portfolio, this can be due to the combination of assets"
   ]
  }
 ],
 "metadata": {
  "kernelspec": {
   "display_name": "Python 3",
   "language": "python",
   "name": "python3"
  },
  "language_info": {
   "codemirror_mode": {
    "name": "ipython",
    "version": 3
   },
   "file_extension": ".py",
   "mimetype": "text/x-python",
   "name": "python",
   "nbconvert_exporter": "python",
   "pygments_lexer": "ipython3",
   "version": "3.10.6"
  },
  "orig_nbformat": 4
 },
 "nbformat": 4,
 "nbformat_minor": 2
}
